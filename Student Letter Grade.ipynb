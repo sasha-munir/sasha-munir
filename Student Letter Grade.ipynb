{
 "cells": [
  {
   "cell_type": "markdown",
   "metadata": {},
   "source": [
    "### Program to process Student data from file and assign Letter Grades"
   ]
  },
  {
   "cell_type": "code",
   "execution_count": 1,
   "metadata": {},
   "outputs": [],
   "source": [
    "import pandas as pd\n",
    "\n",
    "def get_student_data():\n",
    "    \"\"\"bulk reads data from csv file and loads it into data structure\"\"\"\n",
    "    \n",
    "    FILE_PATH = '/USERS/CIS5357/EXAMS/'\n",
    "    with open (FILE_PATH + 'StudentData.csv', 'r') as input_data:\n",
    "        student_data = pd.read_csv(input_data, header = 0, index_col = 0)\n",
    "        student_data_dict = student_data.T.to_dict('list')\n",
    "        \n",
    "    return student_data_dict\n"
   ]
  },
  {
   "cell_type": "code",
   "execution_count": 2,
   "metadata": {},
   "outputs": [],
   "source": [
    "def process_student_data(student_data_dict,user_input):\n",
    "    \"\"\"extracts data for the ID entered and computes average and grade\"\"\"\n",
    "    \n",
    "    #INITIALIZATIONS\n",
    "    final_list = []\n",
    "     \n",
    "    MIN_FOR_A = 90.0\n",
    "    MIN_FOR_B = 80.0\n",
    "    MIN_FOR_C = 70.0\n",
    "    MIN_FOR_D = 60.0\n",
    "    \n",
    "    #PROCESS\n",
    "    if user_input in student_data_dict:\n",
    "        student_name = student_data_dict[user_input][0]\n",
    "        exam1 = student_data_dict[user_input][1]\n",
    "        exam2 = student_data_dict[user_input][2]\n",
    "        exam3 = student_data_dict[user_input][3]\n",
    "        \n",
    "        average_score = (exam1+exam2+exam3)/3\n",
    "        rounded_average = round(average_score,2)\n",
    "        \n",
    "        if rounded_average >= MIN_FOR_A:\n",
    "            letter_grade = 'A'\n",
    "        elif rounded_average >= MIN_FOR_B:\n",
    "            letter_grade = 'B'\n",
    "        elif rounded_average >= MIN_FOR_C:\n",
    "            letter_grade = 'C'\n",
    "        elif rounded_average >= MIN_FOR_D:\n",
    "            letter_grade = 'D'\n",
    "        else:\n",
    "            letter_grade = 'F'             \n",
    "    else:\n",
    "        print(f'Student ID does not exist')\n",
    "    \n",
    "    #OUTPUT\n",
    "    final_list = [student_name,exam1,exam2,exam3,rounded_average,letter_grade]\n",
    "    \n",
    "    return final_list"
   ]
  },
  {
   "cell_type": "code",
   "execution_count": 3,
   "metadata": {},
   "outputs": [],
   "source": [
    "def display_student_details(final_list):\n",
    "    \"\"\"displays the scores for the student ID entered \"\"\"\n",
    "    \n",
    "    name = final_list[0]\n",
    "    e1 = final_list[1]\n",
    "    e2 = final_list[2]\n",
    "    e3 = final_list[3]\n",
    "    rounded_avg = final_list[4]\n",
    "    ltr_grade = final_list[5]\n",
    "    \n",
    "    \n",
    "    print(f'\\nName:\\t\\t{name}\\nExam1:\\t\\t{e1}\\nExam2:\\t\\t{e2}\\nExam3:\\t\\t{e3}\\nAverage:\\t{rounded_avg}\\nLtr Grade:\\t{ltr_grade}')\n"
   ]
  },
  {
   "cell_type": "code",
   "execution_count": 4,
   "metadata": {},
   "outputs": [],
   "source": [
    "def main():\n",
    "    \"\"\"invokes user input and calls all other functions\"\"\"\n",
    "    \n",
    "    #INITIALIZATIONS\n",
    "    continue_process = 'Y'\n",
    "    \n",
    "    MIN_ID = 111\n",
    "    MAX_ID = 119\n",
    "    \n",
    "    #PROCESS\n",
    "    student_data = get_student_data()\n",
    "    while continue_process.upper() == 'Y':\n",
    "        user_input = int(input('Please enter Student ID between (111-119) to look up grades: '))\n",
    "        if user_input >= MIN_ID and user_input < MAX_ID:\n",
    "            final_data_list = process_student_data(student_data,user_input)\n",
    "            display_student_details(final_data_list)\n",
    "            continue_process = input('\\nDo you wish to look up another Student (Y or N)?')\n",
    "        else:\n",
    "            print(f'Invalid ID')\n",
    "        \n",
    "        \n",
    "    print(f'\\nApplication terminated by user')\n",
    "        "
   ]
  },
  {
   "cell_type": "code",
   "execution_count": 6,
   "metadata": {},
   "outputs": [
    {
     "name": "stdin",
     "output_type": "stream",
     "text": [
      "Please enter Student ID between (111-119) to look up grades:  234546\n"
     ]
    },
    {
     "name": "stdout",
     "output_type": "stream",
     "text": [
      "Invalid ID\n"
     ]
    },
    {
     "name": "stdin",
     "output_type": "stream",
     "text": [
      "Please enter Student ID between (111-119) to look up grades:  114\n"
     ]
    },
    {
     "name": "stdout",
     "output_type": "stream",
     "text": [
      "\n",
      "Name:\t\tVicky Lambert\n",
      "Exam1:\t\t68\n",
      "Exam2:\t\t98\n",
      "Exam3:\t\t95\n",
      "Average:\t87.0\n",
      "Ltr Grade:\tB\n"
     ]
    },
    {
     "name": "stdin",
     "output_type": "stream",
     "text": [
      "\n",
      "Do you wish to look up another Student (Y or N)? y\n",
      "Please enter Student ID between (111-119) to look up grades:  112\n"
     ]
    },
    {
     "name": "stdout",
     "output_type": "stream",
     "text": [
      "\n",
      "Name:\t\tBlythe Danner\n",
      "Exam1:\t\t65\n",
      "Exam2:\t\t69\n",
      "Exam3:\t\t91\n",
      "Average:\t75.0\n",
      "Ltr Grade:\tC\n"
     ]
    },
    {
     "name": "stdin",
     "output_type": "stream",
     "text": [
      "\n",
      "Do you wish to look up another Student (Y or N)? n\n"
     ]
    },
    {
     "name": "stdout",
     "output_type": "stream",
     "text": [
      "\n",
      "Application terminated by user\n"
     ]
    }
   ],
   "source": [
    "main()"
   ]
  },
  {
   "cell_type": "code",
   "execution_count": null,
   "metadata": {},
   "outputs": [],
   "source": []
  }
 ],
 "metadata": {
  "kernelspec": {
   "display_name": "Python 3",
   "language": "python",
   "name": "python3"
  },
  "language_info": {
   "codemirror_mode": {
    "name": "ipython",
    "version": 3
   },
   "file_extension": ".py",
   "mimetype": "text/x-python",
   "name": "python",
   "nbconvert_exporter": "python",
   "pygments_lexer": "ipython3",
   "version": "3.8.8"
  }
 },
 "nbformat": 4,
 "nbformat_minor": 4
}
